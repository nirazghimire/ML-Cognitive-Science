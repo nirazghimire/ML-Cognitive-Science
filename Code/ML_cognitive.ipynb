{
 "cells": [
  {
   "cell_type": "code",
   "execution_count": 62,
   "metadata": {
    "id": "UUiDcJgpdD4F"
   },
   "outputs": [],
   "source": [
    "import pandas as pd\n",
    "import numpy as np\n",
    "import matplotlib.pyplot as plt\n",
    "\n",
    "from sklearn.model_selection import train_test_split\n",
    "from sklearn.ensemble import RandomForestClassifier\n",
    "from sklearn.multioutput import MultiOutputClassifier\n",
    "from sklearn.svm import SVC\n",
    "from sklearn.model_selection import GridSearchCV\n",
    "from sklearn.model_selection import RandomizedSearchCV\n",
    "\n",
    "from sklearn.metrics import accuracy_score\n",
    "from sklearn.metrics import classification_report\n",
    "from sklearn.model_selection import cross_val_score\n",
    "\n",
    "import torch\n",
    "from torch import nn, optim\n",
    "from torch.utils.data import Dataset, DataLoader\n"
   ]
  },
  {
   "cell_type": "code",
   "execution_count": 63,
   "metadata": {},
   "outputs": [
    {
     "data": {
      "text/plain": [
       "'2.1.2'"
      ]
     },
     "execution_count": 63,
     "metadata": {},
     "output_type": "execute_result"
    }
   ],
   "source": [
    "# Check pyTorch version\n",
    "torch.__version__"
   ]
  },
  {
   "cell_type": "code",
   "execution_count": 64,
   "metadata": {},
   "outputs": [
    {
     "name": "stdout",
     "output_type": "stream",
     "text": [
      "Using: cpu\n"
     ]
    }
   ],
   "source": [
    "device = \"cuda\" if torch.cuda.is_available() else \"cpu\"\n",
    "print(f\"Using: {device}\")"
   ]
  },
  {
   "cell_type": "code",
   "execution_count": 65,
   "metadata": {
    "id": "gE-BW3Qrez1k"
   },
   "outputs": [],
   "source": [
    "datapath= \"/Users/niraj/Desktop/ML-Cognitive-Science/test/Final_data.csv\""
   ]
  },
  {
   "cell_type": "code",
   "execution_count": 66,
   "metadata": {
    "id": "THDhlS4EfHM5"
   },
   "outputs": [],
   "source": [
    "df = pd.read_csv(datapath)"
   ]
  },
  {
   "cell_type": "code",
   "execution_count": 67,
   "metadata": {
    "id": "-3BrZUfoxqZI"
   },
   "outputs": [],
   "source": [
    "pd.set_option('display.max_rows',None)\n",
    "pd.set_option('display.max_columns',None)"
   ]
  },
  {
   "cell_type": "code",
   "execution_count": 68,
   "metadata": {
    "colab": {
     "base_uri": "https://localhost:8080/",
     "height": 590
    },
    "id": "sF4IRB_txS2t",
    "outputId": "257dcfdb-98d9-4ea2-ff1a-21e25f45a70e"
   },
   "outputs": [
    {
     "data": {
      "text/html": [
       "<div>\n",
       "<style scoped>\n",
       "    .dataframe tbody tr th:only-of-type {\n",
       "        vertical-align: middle;\n",
       "    }\n",
       "\n",
       "    .dataframe tbody tr th {\n",
       "        vertical-align: top;\n",
       "    }\n",
       "\n",
       "    .dataframe thead th {\n",
       "        text-align: right;\n",
       "    }\n",
       "</style>\n",
       "<table border=\"1\" class=\"dataframe\">\n",
       "  <thead>\n",
       "    <tr style=\"text-align: right;\">\n",
       "      <th></th>\n",
       "      <th>Target</th>\n",
       "      <th>participant</th>\n",
       "      <th>Exp</th>\n",
       "      <th>Condition</th>\n",
       "      <th>item</th>\n",
       "      <th>Sentence</th>\n",
       "      <th>WordNum</th>\n",
       "      <th>Age</th>\n",
       "      <th>TargetPos</th>\n",
       "      <th>Verb</th>\n",
       "      <th>VerbPos</th>\n",
       "      <th>CQ_Type</th>\n",
       "      <th>w_1</th>\n",
       "      <th>w_2</th>\n",
       "      <th>w_3</th>\n",
       "      <th>w_4</th>\n",
       "      <th>w_5</th>\n",
       "      <th>w_6</th>\n",
       "      <th>w_7</th>\n",
       "      <th>w_8</th>\n",
       "      <th>w_9</th>\n",
       "      <th>w_10</th>\n",
       "      <th>w_11</th>\n",
       "      <th>w_12</th>\n",
       "      <th>w_13</th>\n",
       "      <th>w_14</th>\n",
       "      <th>w_15</th>\n",
       "      <th>w_16</th>\n",
       "      <th>w_17</th>\n",
       "      <th>w_18</th>\n",
       "      <th>w_19</th>\n",
       "      <th>w_20</th>\n",
       "      <th>Average_Reading_time</th>\n",
       "      <th>Reading_time_on_target</th>\n",
       "      <th>Response_Recorded.corr</th>\n",
       "      <th>Response_Recorded.rt</th>\n",
       "      <th>Target_Mem</th>\n",
       "      <th>Item_t</th>\n",
       "      <th>Item_p</th>\n",
       "      <th>Item_u</th>\n",
       "      <th>Item_s</th>\n",
       "      <th>Item_c</th>\n",
       "      <th>expName</th>\n",
       "      <th>Item_t_Memory_trials.thisN</th>\n",
       "      <th>Item_t_Memory_trials.thisIndex</th>\n",
       "      <th>Item_t_MemoryTestResp.corr</th>\n",
       "      <th>Item_t_MemoryTestResp.rt</th>\n",
       "      <th>t_Target_Mem_CorResp</th>\n",
       "      <th>t_Target_Mem_CorrectResp</th>\n",
       "      <th>Item_t_Cosine</th>\n",
       "      <th>Item_p_Memory_trials.thisN</th>\n",
       "      <th>Item_p_Memory_trials.thisIndex</th>\n",
       "      <th>Item_p_MemoryTestResp.corr</th>\n",
       "      <th>Item_p_MemoryTestResp.rt</th>\n",
       "      <th>p_Target_Mem_CorResp</th>\n",
       "      <th>p_Target_Mem_CorrectResp</th>\n",
       "      <th>Item_p_Cosine</th>\n",
       "      <th>Item_u_Memory_trials.thisN</th>\n",
       "      <th>Item_u_Memory_trials.thisIndex</th>\n",
       "      <th>Item_u_MemoryTestResp.corr</th>\n",
       "      <th>Item_u_MemoryTestResp.rt</th>\n",
       "      <th>u_Target_Mem_CorResp</th>\n",
       "      <th>u_Target_Mem_CorrectResp</th>\n",
       "      <th>Item_u_Cosine</th>\n",
       "      <th>Item_s_Memory_trials.thisN</th>\n",
       "      <th>Item_s_Memory_trials.thisIndex</th>\n",
       "      <th>Item_s_MemoryTestResp.corr</th>\n",
       "      <th>Item_s_MemoryTestResp.rt</th>\n",
       "      <th>s_Target_Mem_CorResp</th>\n",
       "      <th>s_Target_Mem_CorrectResp</th>\n",
       "      <th>Item_s_Cosine</th>\n",
       "      <th>Item_c_Memory_trials.thisN</th>\n",
       "      <th>Item_c_Memory_trials.thisIndex</th>\n",
       "      <th>Item_c_MemoryTestResp.corr</th>\n",
       "      <th>Item_c_MemoryTestResp.rt</th>\n",
       "      <th>c_Target_Mem_CorResp</th>\n",
       "      <th>c_Target_Mem_CorrectResp</th>\n",
       "      <th>Item_c_Cosine</th>\n",
       "    </tr>\n",
       "  </thead>\n",
       "  <tbody>\n",
       "    <tr>\n",
       "      <th>0</th>\n",
       "      <td>butterfly</td>\n",
       "      <td>A1_E12_Y34</td>\n",
       "      <td>PrePost_Mod</td>\n",
       "      <td>Pre-modified</td>\n",
       "      <td>R15_Aim1_i37</td>\n",
       "      <td>It was the pretty, shimmering blue butterfly t...</td>\n",
       "      <td>15</td>\n",
       "      <td>Young</td>\n",
       "      <td>7</td>\n",
       "      <td>photographed</td>\n",
       "      <td>11</td>\n",
       "      <td>NaN</td>\n",
       "      <td>2.043582</td>\n",
       "      <td>0.399983</td>\n",
       "      <td>0.566369</td>\n",
       "      <td>0.433314</td>\n",
       "      <td>0.467180</td>\n",
       "      <td>0.516204</td>\n",
       "      <td>0.399971</td>\n",
       "      <td>0.366804</td>\n",
       "      <td>0.533295</td>\n",
       "      <td>0.399932</td>\n",
       "      <td>0.334056</td>\n",
       "      <td>0.283900</td>\n",
       "      <td>0.315596</td>\n",
       "      <td>0.299949</td>\n",
       "      <td>0.250021</td>\n",
       "      <td>NaN</td>\n",
       "      <td>NaN</td>\n",
       "      <td>NaN</td>\n",
       "      <td>NaN</td>\n",
       "      <td>NaN</td>\n",
       "      <td>0.507344</td>\n",
       "      <td>0.399971</td>\n",
       "      <td>0</td>\n",
       "      <td>NaN</td>\n",
       "      <td>NaN</td>\n",
       "      <td>butterfly</td>\n",
       "      <td>clutter</td>\n",
       "      <td>barricade</td>\n",
       "      <td>hummingbird</td>\n",
       "      <td>passenger</td>\n",
       "      <td>Aim1_Final_ToRun_List2</td>\n",
       "      <td>258</td>\n",
       "      <td>36</td>\n",
       "      <td>1</td>\n",
       "      <td>0.782505</td>\n",
       "      <td>lctrl</td>\n",
       "      <td>lctrl</td>\n",
       "      <td>1</td>\n",
       "      <td>34</td>\n",
       "      <td>216</td>\n",
       "      <td>1</td>\n",
       "      <td>3.8052843</td>\n",
       "      <td>rctrl</td>\n",
       "      <td>rctrl</td>\n",
       "      <td>0.088</td>\n",
       "      <td>48</td>\n",
       "      <td>276</td>\n",
       "      <td>1</td>\n",
       "      <td>0.9082908</td>\n",
       "      <td>rctrl</td>\n",
       "      <td>rctrl</td>\n",
       "      <td>0.032</td>\n",
       "      <td>155</td>\n",
       "      <td>156</td>\n",
       "      <td>1</td>\n",
       "      <td>0.867199</td>\n",
       "      <td>rctrl</td>\n",
       "      <td>rctrl</td>\n",
       "      <td>0.487</td>\n",
       "      <td>158</td>\n",
       "      <td>96</td>\n",
       "      <td>1</td>\n",
       "      <td>0.7843946</td>\n",
       "      <td>lctrl</td>\n",
       "      <td>lctrl</td>\n",
       "      <td>NaN</td>\n",
       "    </tr>\n",
       "    <tr>\n",
       "      <th>1</th>\n",
       "      <td>mermaid</td>\n",
       "      <td>A1_E12_Y34</td>\n",
       "      <td>PrePost_Mod</td>\n",
       "      <td>Unmodified_Post</td>\n",
       "      <td>R15_Aim1_i16</td>\n",
       "      <td>The folk tale said that it was the mermaid tha...</td>\n",
       "      <td>19</td>\n",
       "      <td>Young</td>\n",
       "      <td>9</td>\n",
       "      <td>trapped</td>\n",
       "      <td>13</td>\n",
       "      <td>Dependency</td>\n",
       "      <td>8.630846</td>\n",
       "      <td>0.516957</td>\n",
       "      <td>0.349751</td>\n",
       "      <td>0.366940</td>\n",
       "      <td>0.283343</td>\n",
       "      <td>0.333261</td>\n",
       "      <td>0.316737</td>\n",
       "      <td>0.299669</td>\n",
       "      <td>0.300390</td>\n",
       "      <td>0.266290</td>\n",
       "      <td>0.300038</td>\n",
       "      <td>0.266773</td>\n",
       "      <td>0.233593</td>\n",
       "      <td>0.232916</td>\n",
       "      <td>0.350182</td>\n",
       "      <td>0.266723</td>\n",
       "      <td>0.283599</td>\n",
       "      <td>0.266592</td>\n",
       "      <td>0.266473</td>\n",
       "      <td>NaN</td>\n",
       "      <td>0.743741</td>\n",
       "      <td>0.300390</td>\n",
       "      <td>1</td>\n",
       "      <td>2.282060</td>\n",
       "      <td>NaN</td>\n",
       "      <td>mermaid</td>\n",
       "      <td>raid</td>\n",
       "      <td>book</td>\n",
       "      <td>fairy</td>\n",
       "      <td>sailor</td>\n",
       "      <td>Aim1_Final_ToRun_List2</td>\n",
       "      <td>26</td>\n",
       "      <td>15</td>\n",
       "      <td>1</td>\n",
       "      <td>0.875974</td>\n",
       "      <td>lctrl</td>\n",
       "      <td>lctrl</td>\n",
       "      <td>1</td>\n",
       "      <td>76</td>\n",
       "      <td>195</td>\n",
       "      <td>0</td>\n",
       "      <td>0.9907946</td>\n",
       "      <td>rctrl</td>\n",
       "      <td>rctrl</td>\n",
       "      <td>0.028</td>\n",
       "      <td>270</td>\n",
       "      <td>255</td>\n",
       "      <td>1</td>\n",
       "      <td>1.6861268</td>\n",
       "      <td>rctrl</td>\n",
       "      <td>rctrl</td>\n",
       "      <td>0.018</td>\n",
       "      <td>286</td>\n",
       "      <td>135</td>\n",
       "      <td>0</td>\n",
       "      <td>2.142522</td>\n",
       "      <td>rctrl</td>\n",
       "      <td>rctrl</td>\n",
       "      <td>0.545</td>\n",
       "      <td>93</td>\n",
       "      <td>75</td>\n",
       "      <td>1</td>\n",
       "      <td>0.8869807</td>\n",
       "      <td>lctrl</td>\n",
       "      <td>lctrl</td>\n",
       "      <td>NaN</td>\n",
       "    </tr>\n",
       "    <tr>\n",
       "      <th>2</th>\n",
       "      <td>runner</td>\n",
       "      <td>A1_E12_Y34</td>\n",
       "      <td>PrePost_Mod</td>\n",
       "      <td>Unmodified_Pre</td>\n",
       "      <td>R15_Aim1_i46</td>\n",
       "      <td>I heard that it was the runner that the mentor...</td>\n",
       "      <td>16</td>\n",
       "      <td>Young</td>\n",
       "      <td>7</td>\n",
       "      <td>trained</td>\n",
       "      <td>11</td>\n",
       "      <td>NaN</td>\n",
       "      <td>1.681664</td>\n",
       "      <td>0.400842</td>\n",
       "      <td>0.366426</td>\n",
       "      <td>0.266026</td>\n",
       "      <td>0.283635</td>\n",
       "      <td>0.283253</td>\n",
       "      <td>0.316628</td>\n",
       "      <td>0.300221</td>\n",
       "      <td>0.283160</td>\n",
       "      <td>0.316621</td>\n",
       "      <td>0.333436</td>\n",
       "      <td>0.466473</td>\n",
       "      <td>0.366837</td>\n",
       "      <td>0.283342</td>\n",
       "      <td>0.316617</td>\n",
       "      <td>0.233333</td>\n",
       "      <td>NaN</td>\n",
       "      <td>NaN</td>\n",
       "      <td>NaN</td>\n",
       "      <td>NaN</td>\n",
       "      <td>0.406157</td>\n",
       "      <td>0.316628</td>\n",
       "      <td>0</td>\n",
       "      <td>NaN</td>\n",
       "      <td>NaN</td>\n",
       "      <td>runner</td>\n",
       "      <td>wrens</td>\n",
       "      <td>tower</td>\n",
       "      <td>winner</td>\n",
       "      <td>mentor</td>\n",
       "      <td>Aim1_Final_ToRun_List2</td>\n",
       "      <td>195</td>\n",
       "      <td>45</td>\n",
       "      <td>1</td>\n",
       "      <td>1.088317</td>\n",
       "      <td>lctrl</td>\n",
       "      <td>lctrl</td>\n",
       "      <td>1</td>\n",
       "      <td>49</td>\n",
       "      <td>225</td>\n",
       "      <td>1</td>\n",
       "      <td>0.7259367</td>\n",
       "      <td>rctrl</td>\n",
       "      <td>rctrl</td>\n",
       "      <td>0.032</td>\n",
       "      <td>0</td>\n",
       "      <td>285</td>\n",
       "      <td>1</td>\n",
       "      <td>2.0624101</td>\n",
       "      <td>rctrl</td>\n",
       "      <td>rctrl</td>\n",
       "      <td>0.097</td>\n",
       "      <td>299</td>\n",
       "      <td>165</td>\n",
       "      <td>1</td>\n",
       "      <td>0.754723</td>\n",
       "      <td>rctrl</td>\n",
       "      <td>rctrl</td>\n",
       "      <td>0.593</td>\n",
       "      <td>111</td>\n",
       "      <td>105</td>\n",
       "      <td>1</td>\n",
       "      <td>1.4610028</td>\n",
       "      <td>lctrl</td>\n",
       "      <td>lctrl</td>\n",
       "      <td>NaN</td>\n",
       "    </tr>\n",
       "    <tr>\n",
       "      <th>3</th>\n",
       "      <td>sword</td>\n",
       "      <td>A1_E12_Y34</td>\n",
       "      <td>PrePost_Mod</td>\n",
       "      <td>Unmodified_Pre</td>\n",
       "      <td>R15_Aim1_i38</td>\n",
       "      <td>I couldn't believe that it was a sword that th...</td>\n",
       "      <td>16</td>\n",
       "      <td>Young</td>\n",
       "      <td>8</td>\n",
       "      <td>swallowed</td>\n",
       "      <td>12</td>\n",
       "      <td>General</td>\n",
       "      <td>0.313546</td>\n",
       "      <td>0.350083</td>\n",
       "      <td>0.449946</td>\n",
       "      <td>0.450850</td>\n",
       "      <td>0.382726</td>\n",
       "      <td>0.582942</td>\n",
       "      <td>0.300276</td>\n",
       "      <td>0.283303</td>\n",
       "      <td>0.300086</td>\n",
       "      <td>0.366320</td>\n",
       "      <td>0.283605</td>\n",
       "      <td>0.300210</td>\n",
       "      <td>0.283182</td>\n",
       "      <td>0.299796</td>\n",
       "      <td>0.283672</td>\n",
       "      <td>0.399858</td>\n",
       "      <td>NaN</td>\n",
       "      <td>NaN</td>\n",
       "      <td>NaN</td>\n",
       "      <td>NaN</td>\n",
       "      <td>0.351900</td>\n",
       "      <td>0.283303</td>\n",
       "      <td>1</td>\n",
       "      <td>2.732796</td>\n",
       "      <td>NaN</td>\n",
       "      <td>sword</td>\n",
       "      <td>seed</td>\n",
       "      <td>manifold</td>\n",
       "      <td>knife</td>\n",
       "      <td>magician</td>\n",
       "      <td>Aim1_Final_ToRun_List2</td>\n",
       "      <td>66</td>\n",
       "      <td>37</td>\n",
       "      <td>1</td>\n",
       "      <td>0.852112</td>\n",
       "      <td>lctrl</td>\n",
       "      <td>lctrl</td>\n",
       "      <td>1</td>\n",
       "      <td>271</td>\n",
       "      <td>217</td>\n",
       "      <td>0</td>\n",
       "      <td>1.4093314</td>\n",
       "      <td>rctrl</td>\n",
       "      <td>rctrl</td>\n",
       "      <td>0.066</td>\n",
       "      <td>232</td>\n",
       "      <td>277</td>\n",
       "      <td>1</td>\n",
       "      <td>1.0292172</td>\n",
       "      <td>rctrl</td>\n",
       "      <td>rctrl</td>\n",
       "      <td>0.038</td>\n",
       "      <td>54</td>\n",
       "      <td>157</td>\n",
       "      <td>0</td>\n",
       "      <td>1.957806</td>\n",
       "      <td>rctrl</td>\n",
       "      <td>rctrl</td>\n",
       "      <td>0.558</td>\n",
       "      <td>275</td>\n",
       "      <td>97</td>\n",
       "      <td>0</td>\n",
       "      <td>1.060021</td>\n",
       "      <td>lctrl</td>\n",
       "      <td>lctrl</td>\n",
       "      <td>NaN</td>\n",
       "    </tr>\n",
       "    <tr>\n",
       "      <th>4</th>\n",
       "      <td>fly</td>\n",
       "      <td>A1_E12_Y34</td>\n",
       "      <td>PrePost_Mod</td>\n",
       "      <td>Unmodified_Post</td>\n",
       "      <td>R15_Aim1_i24</td>\n",
       "      <td>She could not guess that it was the fly that t...</td>\n",
       "      <td>17</td>\n",
       "      <td>Young</td>\n",
       "      <td>9</td>\n",
       "      <td>caught</td>\n",
       "      <td>13</td>\n",
       "      <td>General</td>\n",
       "      <td>0.515149</td>\n",
       "      <td>0.300143</td>\n",
       "      <td>0.299787</td>\n",
       "      <td>0.333482</td>\n",
       "      <td>0.400247</td>\n",
       "      <td>0.482825</td>\n",
       "      <td>0.400239</td>\n",
       "      <td>0.299997</td>\n",
       "      <td>0.266708</td>\n",
       "      <td>0.383099</td>\n",
       "      <td>0.316643</td>\n",
       "      <td>0.283746</td>\n",
       "      <td>0.349857</td>\n",
       "      <td>0.333528</td>\n",
       "      <td>0.349656</td>\n",
       "      <td>0.266792</td>\n",
       "      <td>0.283290</td>\n",
       "      <td>NaN</td>\n",
       "      <td>NaN</td>\n",
       "      <td>NaN</td>\n",
       "      <td>0.345011</td>\n",
       "      <td>0.266708</td>\n",
       "      <td>1</td>\n",
       "      <td>4.563811</td>\n",
       "      <td>NaN</td>\n",
       "      <td>fly</td>\n",
       "      <td>floor</td>\n",
       "      <td>cracker</td>\n",
       "      <td>insect</td>\n",
       "      <td>spider</td>\n",
       "      <td>Aim1_Final_ToRun_List2</td>\n",
       "      <td>160</td>\n",
       "      <td>23</td>\n",
       "      <td>1</td>\n",
       "      <td>1.218718</td>\n",
       "      <td>lctrl</td>\n",
       "      <td>lctrl</td>\n",
       "      <td>1</td>\n",
       "      <td>25</td>\n",
       "      <td>203</td>\n",
       "      <td>0</td>\n",
       "      <td>1.3306159</td>\n",
       "      <td>rctrl</td>\n",
       "      <td>rctrl</td>\n",
       "      <td>0.005</td>\n",
       "      <td>30</td>\n",
       "      <td>263</td>\n",
       "      <td>1</td>\n",
       "      <td>1.1314191</td>\n",
       "      <td>rctrl</td>\n",
       "      <td>rctrl</td>\n",
       "      <td>0.000</td>\n",
       "      <td>277</td>\n",
       "      <td>143</td>\n",
       "      <td>1</td>\n",
       "      <td>3.170142</td>\n",
       "      <td>rctrl</td>\n",
       "      <td>rctrl</td>\n",
       "      <td>0.563</td>\n",
       "      <td>181</td>\n",
       "      <td>83</td>\n",
       "      <td>1</td>\n",
       "      <td>1.811823</td>\n",
       "      <td>lctrl</td>\n",
       "      <td>lctrl</td>\n",
       "      <td>NaN</td>\n",
       "    </tr>\n",
       "  </tbody>\n",
       "</table>\n",
       "</div>"
      ],
      "text/plain": [
       "      Target participant          Exp        Condition          item  \\\n",
       "0  butterfly  A1_E12_Y34  PrePost_Mod     Pre-modified  R15_Aim1_i37   \n",
       "1    mermaid  A1_E12_Y34  PrePost_Mod  Unmodified_Post  R15_Aim1_i16   \n",
       "2     runner  A1_E12_Y34  PrePost_Mod   Unmodified_Pre  R15_Aim1_i46   \n",
       "3      sword  A1_E12_Y34  PrePost_Mod   Unmodified_Pre  R15_Aim1_i38   \n",
       "4        fly  A1_E12_Y34  PrePost_Mod  Unmodified_Post  R15_Aim1_i24   \n",
       "\n",
       "                                            Sentence  WordNum    Age  \\\n",
       "0  It was the pretty, shimmering blue butterfly t...       15  Young   \n",
       "1  The folk tale said that it was the mermaid tha...       19  Young   \n",
       "2  I heard that it was the runner that the mentor...       16  Young   \n",
       "3  I couldn't believe that it was a sword that th...       16  Young   \n",
       "4  She could not guess that it was the fly that t...       17  Young   \n",
       "\n",
       "   TargetPos          Verb  VerbPos     CQ_Type       w_1       w_2       w_3  \\\n",
       "0          7  photographed       11         NaN  2.043582  0.399983  0.566369   \n",
       "1          9       trapped       13  Dependency  8.630846  0.516957  0.349751   \n",
       "2          7       trained       11         NaN  1.681664  0.400842  0.366426   \n",
       "3          8     swallowed       12     General  0.313546  0.350083  0.449946   \n",
       "4          9        caught       13     General  0.515149  0.300143  0.299787   \n",
       "\n",
       "        w_4       w_5       w_6       w_7       w_8       w_9      w_10  \\\n",
       "0  0.433314  0.467180  0.516204  0.399971  0.366804  0.533295  0.399932   \n",
       "1  0.366940  0.283343  0.333261  0.316737  0.299669  0.300390  0.266290   \n",
       "2  0.266026  0.283635  0.283253  0.316628  0.300221  0.283160  0.316621   \n",
       "3  0.450850  0.382726  0.582942  0.300276  0.283303  0.300086  0.366320   \n",
       "4  0.333482  0.400247  0.482825  0.400239  0.299997  0.266708  0.383099   \n",
       "\n",
       "       w_11      w_12      w_13      w_14      w_15      w_16      w_17  \\\n",
       "0  0.334056  0.283900  0.315596  0.299949  0.250021       NaN       NaN   \n",
       "1  0.300038  0.266773  0.233593  0.232916  0.350182  0.266723  0.283599   \n",
       "2  0.333436  0.466473  0.366837  0.283342  0.316617  0.233333       NaN   \n",
       "3  0.283605  0.300210  0.283182  0.299796  0.283672  0.399858       NaN   \n",
       "4  0.316643  0.283746  0.349857  0.333528  0.349656  0.266792  0.283290   \n",
       "\n",
       "       w_18      w_19  w_20  Average_Reading_time  Reading_time_on_target  \\\n",
       "0       NaN       NaN   NaN              0.507344                0.399971   \n",
       "1  0.266592  0.266473   NaN              0.743741                0.300390   \n",
       "2       NaN       NaN   NaN              0.406157                0.316628   \n",
       "3       NaN       NaN   NaN              0.351900                0.283303   \n",
       "4       NaN       NaN   NaN              0.345011                0.266708   \n",
       "\n",
       "   Response_Recorded.corr  Response_Recorded.rt  Target_Mem     Item_t  \\\n",
       "0                       0                   NaN         NaN  butterfly   \n",
       "1                       1              2.282060         NaN    mermaid   \n",
       "2                       0                   NaN         NaN     runner   \n",
       "3                       1              2.732796         NaN      sword   \n",
       "4                       1              4.563811         NaN        fly   \n",
       "\n",
       "    Item_p     Item_u       Item_s     Item_c                 expName  \\\n",
       "0  clutter  barricade  hummingbird  passenger  Aim1_Final_ToRun_List2   \n",
       "1     raid       book        fairy     sailor  Aim1_Final_ToRun_List2   \n",
       "2    wrens      tower       winner     mentor  Aim1_Final_ToRun_List2   \n",
       "3     seed   manifold        knife   magician  Aim1_Final_ToRun_List2   \n",
       "4    floor    cracker       insect     spider  Aim1_Final_ToRun_List2   \n",
       "\n",
       "   Item_t_Memory_trials.thisN  Item_t_Memory_trials.thisIndex  \\\n",
       "0                         258                              36   \n",
       "1                          26                              15   \n",
       "2                         195                              45   \n",
       "3                          66                              37   \n",
       "4                         160                              23   \n",
       "\n",
       "   Item_t_MemoryTestResp.corr  Item_t_MemoryTestResp.rt t_Target_Mem_CorResp  \\\n",
       "0                           1                  0.782505                lctrl   \n",
       "1                           1                  0.875974                lctrl   \n",
       "2                           1                  1.088317                lctrl   \n",
       "3                           1                  0.852112                lctrl   \n",
       "4                           1                  1.218718                lctrl   \n",
       "\n",
       "  t_Target_Mem_CorrectResp  Item_t_Cosine  Item_p_Memory_trials.thisN  \\\n",
       "0                    lctrl              1                          34   \n",
       "1                    lctrl              1                          76   \n",
       "2                    lctrl              1                          49   \n",
       "3                    lctrl              1                         271   \n",
       "4                    lctrl              1                          25   \n",
       "\n",
       "   Item_p_Memory_trials.thisIndex  Item_p_MemoryTestResp.corr  \\\n",
       "0                             216                           1   \n",
       "1                             195                           0   \n",
       "2                             225                           1   \n",
       "3                             217                           0   \n",
       "4                             203                           0   \n",
       "\n",
       "  Item_p_MemoryTestResp.rt p_Target_Mem_CorResp p_Target_Mem_CorrectResp  \\\n",
       "0                3.8052843                rctrl                    rctrl   \n",
       "1                0.9907946                rctrl                    rctrl   \n",
       "2                0.7259367                rctrl                    rctrl   \n",
       "3                1.4093314                rctrl                    rctrl   \n",
       "4                1.3306159                rctrl                    rctrl   \n",
       "\n",
       "   Item_p_Cosine  Item_u_Memory_trials.thisN  Item_u_Memory_trials.thisIndex  \\\n",
       "0          0.088                          48                             276   \n",
       "1          0.028                         270                             255   \n",
       "2          0.032                           0                             285   \n",
       "3          0.066                         232                             277   \n",
       "4          0.005                          30                             263   \n",
       "\n",
       "   Item_u_MemoryTestResp.corr Item_u_MemoryTestResp.rt u_Target_Mem_CorResp  \\\n",
       "0                           1                0.9082908                rctrl   \n",
       "1                           1                1.6861268                rctrl   \n",
       "2                           1                2.0624101                rctrl   \n",
       "3                           1                1.0292172                rctrl   \n",
       "4                           1                1.1314191                rctrl   \n",
       "\n",
       "  u_Target_Mem_CorrectResp  Item_u_Cosine  Item_s_Memory_trials.thisN  \\\n",
       "0                    rctrl          0.032                         155   \n",
       "1                    rctrl          0.018                         286   \n",
       "2                    rctrl          0.097                         299   \n",
       "3                    rctrl          0.038                          54   \n",
       "4                    rctrl          0.000                         277   \n",
       "\n",
       "   Item_s_Memory_trials.thisIndex  Item_s_MemoryTestResp.corr  \\\n",
       "0                             156                           1   \n",
       "1                             135                           0   \n",
       "2                             165                           1   \n",
       "3                             157                           0   \n",
       "4                             143                           1   \n",
       "\n",
       "   Item_s_MemoryTestResp.rt s_Target_Mem_CorResp s_Target_Mem_CorrectResp  \\\n",
       "0                  0.867199                rctrl                    rctrl   \n",
       "1                  2.142522                rctrl                    rctrl   \n",
       "2                  0.754723                rctrl                    rctrl   \n",
       "3                  1.957806                rctrl                    rctrl   \n",
       "4                  3.170142                rctrl                    rctrl   \n",
       "\n",
       "   Item_s_Cosine  Item_c_Memory_trials.thisN  Item_c_Memory_trials.thisIndex  \\\n",
       "0          0.487                         158                              96   \n",
       "1          0.545                          93                              75   \n",
       "2          0.593                         111                             105   \n",
       "3          0.558                         275                              97   \n",
       "4          0.563                         181                              83   \n",
       "\n",
       "   Item_c_MemoryTestResp.corr Item_c_MemoryTestResp.rt c_Target_Mem_CorResp  \\\n",
       "0                           1                0.7843946                lctrl   \n",
       "1                           1                0.8869807                lctrl   \n",
       "2                           1                1.4610028                lctrl   \n",
       "3                           0                 1.060021                lctrl   \n",
       "4                           1                 1.811823                lctrl   \n",
       "\n",
       "  c_Target_Mem_CorrectResp  Item_c_Cosine  \n",
       "0                    lctrl            NaN  \n",
       "1                    lctrl            NaN  \n",
       "2                    lctrl            NaN  \n",
       "3                    lctrl            NaN  \n",
       "4                    lctrl            NaN  "
      ]
     },
     "execution_count": 68,
     "metadata": {},
     "output_type": "execute_result"
    }
   ],
   "source": [
    "df.head()"
   ]
  },
  {
   "cell_type": "code",
   "execution_count": null,
   "metadata": {
    "id": "QI-8pllZQvHk"
   },
   "outputs": [],
   "source": []
  },
  {
   "cell_type": "code",
   "execution_count": 69,
   "metadata": {
    "id": "vkKXzlilNLlf"
   },
   "outputs": [],
   "source": [
    "df = df[[\"Age\",\"Average_Reading_time\",\"Reading_time_on_target\",\"Item_t_MemoryTestResp.rt\",\"Item_t_MemoryTestResp.corr\",\"Item_s_MemoryTestResp.rt\",\"Item_s_MemoryTestResp.corr\"]]"
   ]
  },
  {
   "cell_type": "code",
   "execution_count": 70,
   "metadata": {
    "colab": {
     "base_uri": "https://localhost:8080/",
     "height": 206
    },
    "id": "g3_cSHFDstc1",
    "outputId": "a8d20545-a059-4555-f7a9-fe288756f23c"
   },
   "outputs": [
    {
     "data": {
      "text/html": [
       "<div>\n",
       "<style scoped>\n",
       "    .dataframe tbody tr th:only-of-type {\n",
       "        vertical-align: middle;\n",
       "    }\n",
       "\n",
       "    .dataframe tbody tr th {\n",
       "        vertical-align: top;\n",
       "    }\n",
       "\n",
       "    .dataframe thead th {\n",
       "        text-align: right;\n",
       "    }\n",
       "</style>\n",
       "<table border=\"1\" class=\"dataframe\">\n",
       "  <thead>\n",
       "    <tr style=\"text-align: right;\">\n",
       "      <th></th>\n",
       "      <th>Age</th>\n",
       "      <th>Average_Reading_time</th>\n",
       "      <th>Reading_time_on_target</th>\n",
       "      <th>Item_t_MemoryTestResp.rt</th>\n",
       "      <th>Item_t_MemoryTestResp.corr</th>\n",
       "      <th>Item_s_MemoryTestResp.rt</th>\n",
       "      <th>Item_s_MemoryTestResp.corr</th>\n",
       "    </tr>\n",
       "  </thead>\n",
       "  <tbody>\n",
       "    <tr>\n",
       "      <th>0</th>\n",
       "      <td>Young</td>\n",
       "      <td>0.507344</td>\n",
       "      <td>0.399971</td>\n",
       "      <td>0.782505</td>\n",
       "      <td>1</td>\n",
       "      <td>0.867199</td>\n",
       "      <td>1</td>\n",
       "    </tr>\n",
       "    <tr>\n",
       "      <th>1</th>\n",
       "      <td>Young</td>\n",
       "      <td>0.743741</td>\n",
       "      <td>0.300390</td>\n",
       "      <td>0.875974</td>\n",
       "      <td>1</td>\n",
       "      <td>2.142522</td>\n",
       "      <td>0</td>\n",
       "    </tr>\n",
       "    <tr>\n",
       "      <th>2</th>\n",
       "      <td>Young</td>\n",
       "      <td>0.406157</td>\n",
       "      <td>0.316628</td>\n",
       "      <td>1.088317</td>\n",
       "      <td>1</td>\n",
       "      <td>0.754723</td>\n",
       "      <td>1</td>\n",
       "    </tr>\n",
       "    <tr>\n",
       "      <th>3</th>\n",
       "      <td>Young</td>\n",
       "      <td>0.351900</td>\n",
       "      <td>0.283303</td>\n",
       "      <td>0.852112</td>\n",
       "      <td>1</td>\n",
       "      <td>1.957806</td>\n",
       "      <td>0</td>\n",
       "    </tr>\n",
       "    <tr>\n",
       "      <th>4</th>\n",
       "      <td>Young</td>\n",
       "      <td>0.345011</td>\n",
       "      <td>0.266708</td>\n",
       "      <td>1.218718</td>\n",
       "      <td>1</td>\n",
       "      <td>3.170142</td>\n",
       "      <td>1</td>\n",
       "    </tr>\n",
       "  </tbody>\n",
       "</table>\n",
       "</div>"
      ],
      "text/plain": [
       "     Age  Average_Reading_time  Reading_time_on_target  \\\n",
       "0  Young              0.507344                0.399971   \n",
       "1  Young              0.743741                0.300390   \n",
       "2  Young              0.406157                0.316628   \n",
       "3  Young              0.351900                0.283303   \n",
       "4  Young              0.345011                0.266708   \n",
       "\n",
       "   Item_t_MemoryTestResp.rt  Item_t_MemoryTestResp.corr  \\\n",
       "0                  0.782505                           1   \n",
       "1                  0.875974                           1   \n",
       "2                  1.088317                           1   \n",
       "3                  0.852112                           1   \n",
       "4                  1.218718                           1   \n",
       "\n",
       "   Item_s_MemoryTestResp.rt  Item_s_MemoryTestResp.corr  \n",
       "0                  0.867199                           1  \n",
       "1                  2.142522                           0  \n",
       "2                  0.754723                           1  \n",
       "3                  1.957806                           0  \n",
       "4                  3.170142                           1  "
      ]
     },
     "execution_count": 70,
     "metadata": {},
     "output_type": "execute_result"
    }
   ],
   "source": [
    "df.head()"
   ]
  },
  {
   "cell_type": "code",
   "execution_count": 71,
   "metadata": {
    "id": "A6lgYvva9t3r"
   },
   "outputs": [],
   "source": [
    "df['Age'] = df['Age'].map({'Young': 0, 'Old': 1})"
   ]
  },
  {
   "cell_type": "code",
   "execution_count": 72,
   "metadata": {
    "colab": {
     "base_uri": "https://localhost:8080/",
     "height": 206
    },
    "id": "zPlOwQ4mfIMv",
    "outputId": "750787cd-99fe-4a28-daba-1d76f8aed555"
   },
   "outputs": [
    {
     "data": {
      "text/html": [
       "<div>\n",
       "<style scoped>\n",
       "    .dataframe tbody tr th:only-of-type {\n",
       "        vertical-align: middle;\n",
       "    }\n",
       "\n",
       "    .dataframe tbody tr th {\n",
       "        vertical-align: top;\n",
       "    }\n",
       "\n",
       "    .dataframe thead th {\n",
       "        text-align: right;\n",
       "    }\n",
       "</style>\n",
       "<table border=\"1\" class=\"dataframe\">\n",
       "  <thead>\n",
       "    <tr style=\"text-align: right;\">\n",
       "      <th></th>\n",
       "      <th>Age</th>\n",
       "      <th>Average_Reading_time</th>\n",
       "      <th>Reading_time_on_target</th>\n",
       "      <th>Item_t_MemoryTestResp.rt</th>\n",
       "      <th>Item_t_MemoryTestResp.corr</th>\n",
       "      <th>Item_s_MemoryTestResp.rt</th>\n",
       "      <th>Item_s_MemoryTestResp.corr</th>\n",
       "    </tr>\n",
       "  </thead>\n",
       "  <tbody>\n",
       "    <tr>\n",
       "      <th>0</th>\n",
       "      <td>0</td>\n",
       "      <td>0.507344</td>\n",
       "      <td>0.399971</td>\n",
       "      <td>0.782505</td>\n",
       "      <td>1</td>\n",
       "      <td>0.867199</td>\n",
       "      <td>1</td>\n",
       "    </tr>\n",
       "    <tr>\n",
       "      <th>1</th>\n",
       "      <td>0</td>\n",
       "      <td>0.743741</td>\n",
       "      <td>0.300390</td>\n",
       "      <td>0.875974</td>\n",
       "      <td>1</td>\n",
       "      <td>2.142522</td>\n",
       "      <td>0</td>\n",
       "    </tr>\n",
       "    <tr>\n",
       "      <th>2</th>\n",
       "      <td>0</td>\n",
       "      <td>0.406157</td>\n",
       "      <td>0.316628</td>\n",
       "      <td>1.088317</td>\n",
       "      <td>1</td>\n",
       "      <td>0.754723</td>\n",
       "      <td>1</td>\n",
       "    </tr>\n",
       "    <tr>\n",
       "      <th>3</th>\n",
       "      <td>0</td>\n",
       "      <td>0.351900</td>\n",
       "      <td>0.283303</td>\n",
       "      <td>0.852112</td>\n",
       "      <td>1</td>\n",
       "      <td>1.957806</td>\n",
       "      <td>0</td>\n",
       "    </tr>\n",
       "    <tr>\n",
       "      <th>4</th>\n",
       "      <td>0</td>\n",
       "      <td>0.345011</td>\n",
       "      <td>0.266708</td>\n",
       "      <td>1.218718</td>\n",
       "      <td>1</td>\n",
       "      <td>3.170142</td>\n",
       "      <td>1</td>\n",
       "    </tr>\n",
       "  </tbody>\n",
       "</table>\n",
       "</div>"
      ],
      "text/plain": [
       "   Age  Average_Reading_time  Reading_time_on_target  \\\n",
       "0    0              0.507344                0.399971   \n",
       "1    0              0.743741                0.300390   \n",
       "2    0              0.406157                0.316628   \n",
       "3    0              0.351900                0.283303   \n",
       "4    0              0.345011                0.266708   \n",
       "\n",
       "   Item_t_MemoryTestResp.rt  Item_t_MemoryTestResp.corr  \\\n",
       "0                  0.782505                           1   \n",
       "1                  0.875974                           1   \n",
       "2                  1.088317                           1   \n",
       "3                  0.852112                           1   \n",
       "4                  1.218718                           1   \n",
       "\n",
       "   Item_s_MemoryTestResp.rt  Item_s_MemoryTestResp.corr  \n",
       "0                  0.867199                           1  \n",
       "1                  2.142522                           0  \n",
       "2                  0.754723                           1  \n",
       "3                  1.957806                           0  \n",
       "4                  3.170142                           1  "
      ]
     },
     "execution_count": 72,
     "metadata": {},
     "output_type": "execute_result"
    }
   ],
   "source": [
    "df.head()"
   ]
  },
  {
   "cell_type": "code",
   "execution_count": 73,
   "metadata": {
    "colab": {
     "base_uri": "https://localhost:8080/",
     "height": 206
    },
    "id": "ZJ8YQj_18aNo",
    "outputId": "78aa5278-06fb-49d7-e2ac-d92d92be701d"
   },
   "outputs": [
    {
     "data": {
      "text/html": [
       "<div>\n",
       "<style scoped>\n",
       "    .dataframe tbody tr th:only-of-type {\n",
       "        vertical-align: middle;\n",
       "    }\n",
       "\n",
       "    .dataframe tbody tr th {\n",
       "        vertical-align: top;\n",
       "    }\n",
       "\n",
       "    .dataframe thead th {\n",
       "        text-align: right;\n",
       "    }\n",
       "</style>\n",
       "<table border=\"1\" class=\"dataframe\">\n",
       "  <thead>\n",
       "    <tr style=\"text-align: right;\">\n",
       "      <th></th>\n",
       "      <th>Age</th>\n",
       "      <th>Average_Reading_time</th>\n",
       "      <th>Reading_time_on_target</th>\n",
       "      <th>Item_t_MemoryTestResp.rt</th>\n",
       "      <th>Item_s_MemoryTestResp.rt</th>\n",
       "    </tr>\n",
       "  </thead>\n",
       "  <tbody>\n",
       "    <tr>\n",
       "      <th>0</th>\n",
       "      <td>0</td>\n",
       "      <td>0.507344</td>\n",
       "      <td>0.399971</td>\n",
       "      <td>0.782505</td>\n",
       "      <td>0.867199</td>\n",
       "    </tr>\n",
       "    <tr>\n",
       "      <th>1</th>\n",
       "      <td>0</td>\n",
       "      <td>0.743741</td>\n",
       "      <td>0.300390</td>\n",
       "      <td>0.875974</td>\n",
       "      <td>2.142522</td>\n",
       "    </tr>\n",
       "    <tr>\n",
       "      <th>2</th>\n",
       "      <td>0</td>\n",
       "      <td>0.406157</td>\n",
       "      <td>0.316628</td>\n",
       "      <td>1.088317</td>\n",
       "      <td>0.754723</td>\n",
       "    </tr>\n",
       "    <tr>\n",
       "      <th>3</th>\n",
       "      <td>0</td>\n",
       "      <td>0.351900</td>\n",
       "      <td>0.283303</td>\n",
       "      <td>0.852112</td>\n",
       "      <td>1.957806</td>\n",
       "    </tr>\n",
       "    <tr>\n",
       "      <th>4</th>\n",
       "      <td>0</td>\n",
       "      <td>0.345011</td>\n",
       "      <td>0.266708</td>\n",
       "      <td>1.218718</td>\n",
       "      <td>3.170142</td>\n",
       "    </tr>\n",
       "  </tbody>\n",
       "</table>\n",
       "</div>"
      ],
      "text/plain": [
       "   Age  Average_Reading_time  Reading_time_on_target  \\\n",
       "0    0              0.507344                0.399971   \n",
       "1    0              0.743741                0.300390   \n",
       "2    0              0.406157                0.316628   \n",
       "3    0              0.351900                0.283303   \n",
       "4    0              0.345011                0.266708   \n",
       "\n",
       "   Item_t_MemoryTestResp.rt  Item_s_MemoryTestResp.rt  \n",
       "0                  0.782505                  0.867199  \n",
       "1                  0.875974                  2.142522  \n",
       "2                  1.088317                  0.754723  \n",
       "3                  0.852112                  1.957806  \n",
       "4                  1.218718                  3.170142  "
      ]
     },
     "execution_count": 73,
     "metadata": {},
     "output_type": "execute_result"
    }
   ],
   "source": [
    "X = df.drop([\"Item_t_MemoryTestResp.corr\",\"Item_s_MemoryTestResp.corr\"],axis = \"columns\")\n",
    "X.head()"
   ]
  },
  {
   "cell_type": "code",
   "execution_count": 74,
   "metadata": {
    "id": "uQQDB_6gRXdf"
   },
   "outputs": [],
   "source": [
    "# Todo\n",
    "# remove anything that is higher than standard deviation of 2.5 for each column\n",
    "# mean+-(standard_deviation* 2.5)\n",
    "\n",
    "# if this doesn't work try this:\n",
    "# Median split the participants on their accuracy to comprehension questions (not memory questions)"
   ]
  },
  {
   "cell_type": "code",
   "execution_count": 75,
   "metadata": {
    "colab": {
     "base_uri": "https://localhost:8080/"
    },
    "id": "alSWq1XfONT6",
    "outputId": "fffe726b-5d71-4691-f3bf-072a97a7c6b0"
   },
   "outputs": [
    {
     "data": {
      "text/plain": [
       "1.06573795"
      ]
     },
     "execution_count": 75,
     "metadata": {},
     "output_type": "execute_result"
    }
   ],
   "source": [
    "X[\"Item_s_MemoryTestResp.rt\"].median()"
   ]
  },
  {
   "cell_type": "code",
   "execution_count": 76,
   "metadata": {
    "colab": {
     "base_uri": "https://localhost:8080/"
    },
    "id": "8qLe0H98LvTo",
    "outputId": "829e6325-1d4e-47e3-83f1-a106e40ad78b"
   },
   "outputs": [
    {
     "name": "stdout",
     "output_type": "stream",
     "text": [
      "(7260,) (7260,)\n",
      "(7260, 2)\n"
     ]
    }
   ],
   "source": [
    "\n",
    "y1 = df[\"Item_t_MemoryTestResp.corr\"]\n",
    "y2 = df[\"Item_s_MemoryTestResp.corr\"]\n",
    "print(y1.shape,y2.shape)\n",
    "y= np.column_stack((y1,y2))\n",
    "print(y.shape)"
   ]
  },
  {
   "cell_type": "code",
   "execution_count": 80,
   "metadata": {},
   "outputs": [
    {
     "data": {
      "text/plain": [
       "((5808, 5), (1452, 5), (5808, 2), (1452, 2))"
      ]
     },
     "execution_count": 80,
     "metadata": {},
     "output_type": "execute_result"
    }
   ],
   "source": [
    "# Splitting the datasets into train and test using 20% as test size\n",
    "\n",
    "X_train, X_test, y_train, y_test = train_test_split(X,y,test_size = 0.2, random_state = 42)\n",
    "X_train.shape, X_test.shape, y_train.shape, y_test.shape"
   ]
  },
  {
   "cell_type": "markdown",
   "metadata": {},
   "source": [
    "## Trying with RandomForest to check the accuracy"
   ]
  },
  {
   "cell_type": "code",
   "execution_count": 140,
   "metadata": {
    "colab": {
     "base_uri": "https://localhost:8080/"
    },
    "id": "Z_jzOiQpM65b",
    "outputId": "cd7d03ea-6b01-4faf-acad-feabef2b836a"
   },
   "outputs": [
    {
     "name": "stdout",
     "output_type": "stream",
     "text": [
      "Best parameters:  {'estimator__n_estimators': 71}\n",
      "Score:  0.46143250688705234\n",
      "              precision    recall  f1-score   support\n",
      "\n",
      "           0       0.71      0.87      0.78       984\n",
      "           1       0.72      0.91      0.81      1036\n",
      "\n",
      "   micro avg       0.72      0.89      0.79      2020\n",
      "   macro avg       0.72      0.89      0.79      2020\n",
      "weighted avg       0.72      0.89      0.79      2020\n",
      " samples avg       0.72      0.89      0.78      2020\n",
      "\n"
     ]
    }
   ],
   "source": [
    "\n",
    "rf_clf= RandomForestClassifier()\n",
    "\n",
    "multi_target_clf = MultiOutputClassifier(estimator = rf_clf)\n",
    "\n",
    "param_grid = {'estimator__n_estimators': range(1,100)}\n",
    "\n",
    "# Using GridSearchCV for hyperparameter tuning\n",
    "grid_search = GridSearchCV(multi_target_clf, param_grid, cv=5)\n",
    "grid_search.fit(X_train, y_train)\n",
    "\n",
    "# Printing the best parameters\n",
    "print(\"Best parameters: \", grid_search.best_params_)\n",
    "\n",
    "# Predicting the test set results\n",
    "y_pred = grid_search.predict(X_test)\n",
    "\n",
    "# Calculating the score\n",
    "score = grid_search.score(X_test,y_test)\n",
    "print(\"Score: \", score)\n",
    "\n",
    "# Printing the Classification report to better analysis\n",
    "print(classification_report(y_test,y_pred,zero_division=1))\n"
   ]
  },
  {
   "cell_type": "code",
   "execution_count": 15,
   "metadata": {
    "id": "pwGpCPiYPsUQ"
   },
   "outputs": [
    {
     "name": "stdout",
     "output_type": "stream",
     "text": [
      "0.4800275482093664\n",
      "[0.47107438 0.45867769 0.43526171 0.47451791 0.44490358]\n"
     ]
    }
   ],
   "source": [
    "rf_clf= RandomForestClassifier(n_estimators=99)\n",
    "\n",
    "# Splitting the datasets into train and test using 20% as test size\n",
    "X_train, X_test, y_train, y_test = train_test_split(X,y,test_size = 0.2, random_state = 42)\n",
    "\n",
    "# print(X_train.shape, X_train.dtype)\n",
    "# print(y_train.shape, y_train.dtype)\n",
    "multi_target_clf = MultiOutputClassifier(estimator = rf_clf)\n",
    "\n",
    "# Fitting the Model with X_train and y_train  Note: here y_train is 2D array \n",
    "multi_target_clf.fit(X_train,y_train)\n",
    "\n",
    "y_pred = multi_target_clf.predict(X_test)\n",
    "# print(y_pred)\n",
    "# print(f\"This is true one: {y_test}\")\n",
    "\n",
    "# Calculating Cross Validation score to test the performance.\n",
    "score = multi_target_clf.score(X_test,y_test)\n",
    "scores = cross_val_score(rf_clf, X, y, cv=5)\n",
    "print(score)\n",
    "print(scores)"
   ]
  },
  {
   "cell_type": "code",
   "execution_count": 92,
   "metadata": {},
   "outputs": [
    {
     "data": {
      "text/plain": [
       "(dtype('int64'), dtype('int64'))"
      ]
     },
     "execution_count": 92,
     "metadata": {},
     "output_type": "execute_result"
    }
   ],
   "source": [
    "y_test.dtype, y_pred.dtype"
   ]
  },
  {
   "cell_type": "code",
   "execution_count": 35,
   "metadata": {
    "colab": {
     "base_uri": "https://localhost:8080/",
     "height": 115
    },
    "id": "PwwkFiCSXvQl",
    "outputId": "df63c24d-bf29-4506-93ba-efce68316620"
   },
   "outputs": [],
   "source": [
    "# clf_svm =  MultiOutputClassifier(SVC(random_state=42))\n",
    "# X_train, X_test, y_train, y_test = train_test_split(X,y,test_size = 0.2, random_state = 42)\n",
    "# clf_svm.fit(X_train, y_train)"
   ]
  },
  {
   "cell_type": "markdown",
   "metadata": {},
   "source": [
    "## Try with SVM model to see if it outperforms RandomForest"
   ]
  },
  {
   "cell_type": "code",
   "execution_count": 79,
   "metadata": {
    "id": "ROExBEgN_lFd"
   },
   "outputs": [
    {
     "name": "stdout",
     "output_type": "stream",
     "text": [
      "Score: 0.4731404958677686\n"
     ]
    }
   ],
   "source": [
    "from sklearn.multioutput import MultiOutputClassifier\n",
    "\n",
    "# Creating a base SVM classifier\n",
    "base_svc = SVC(C = 10, kernel = 'rbf', gamma = 'auto')\n",
    "\n",
    "# Wrap the SVC model with MultiOutputClassifier\n",
    "multi_svc = MultiOutputClassifier(base_svc)\n",
    "\n",
    "# Fit the model to the data\n",
    "multi_svc.fit(X_train, y_train)\n",
    "\n",
    "# Evaluate the model on the test set\n",
    "score = multi_svc.score(X_test, y_test)\n",
    "print(\"Score:\", score)"
   ]
  },
  {
   "cell_type": "code",
   "execution_count": null,
   "metadata": {
    "scrolled": true
   },
   "outputs": [],
   "source": []
  },
  {
   "cell_type": "code",
   "execution_count": 74,
   "metadata": {
    "scrolled": true
   },
   "outputs": [
    {
     "data": {
      "text/plain": [
       "(10, 2)"
      ]
     },
     "execution_count": 74,
     "metadata": {},
     "output_type": "execute_result"
    }
   ],
   "source": [
    "y_pred = multi_svc.predict(X_test[:10])\n",
    "y_pred.shape"
   ]
  },
  {
   "cell_type": "code",
   "execution_count": 75,
   "metadata": {
    "scrolled": true
   },
   "outputs": [
    {
     "data": {
      "text/plain": [
       "array([[1, 1],\n",
       "       [1, 1],\n",
       "       [1, 1],\n",
       "       [1, 1],\n",
       "       [1, 1],\n",
       "       [1, 1],\n",
       "       [1, 1],\n",
       "       [1, 1],\n",
       "       [1, 1],\n",
       "       [1, 1]])"
      ]
     },
     "execution_count": 75,
     "metadata": {},
     "output_type": "execute_result"
    }
   ],
   "source": [
    "y_pred[:10]"
   ]
  },
  {
   "cell_type": "code",
   "execution_count": 77,
   "metadata": {},
   "outputs": [
    {
     "data": {
      "text/plain": [
       "array([[0, 1],\n",
       "       [0, 1],\n",
       "       [1, 1],\n",
       "       [1, 1],\n",
       "       [1, 1],\n",
       "       [1, 1],\n",
       "       [0, 1],\n",
       "       [1, 1],\n",
       "       [1, 0],\n",
       "       [1, 1]])"
      ]
     },
     "execution_count": 77,
     "metadata": {},
     "output_type": "execute_result"
    }
   ],
   "source": [
    "y_test[:10]"
   ]
  },
  {
   "cell_type": "markdown",
   "metadata": {},
   "source": [
    "## Now, Modifying the data such that removing anything that is higher than (mean - standard deviation * 2.5)."
   ]
  },
  {
   "cell_type": "code",
   "execution_count": 16,
   "metadata": {},
   "outputs": [
    {
     "data": {
      "text/html": [
       "<div>\n",
       "<style scoped>\n",
       "    .dataframe tbody tr th:only-of-type {\n",
       "        vertical-align: middle;\n",
       "    }\n",
       "\n",
       "    .dataframe tbody tr th {\n",
       "        vertical-align: top;\n",
       "    }\n",
       "\n",
       "    .dataframe thead th {\n",
       "        text-align: right;\n",
       "    }\n",
       "</style>\n",
       "<table border=\"1\" class=\"dataframe\">\n",
       "  <thead>\n",
       "    <tr style=\"text-align: right;\">\n",
       "      <th></th>\n",
       "      <th>Age</th>\n",
       "      <th>Average_Reading_time</th>\n",
       "      <th>Reading_time_on_target</th>\n",
       "      <th>Item_t_MemoryTestResp.rt</th>\n",
       "      <th>Item_t_MemoryTestResp.corr</th>\n",
       "      <th>Item_s_MemoryTestResp.rt</th>\n",
       "      <th>Item_s_MemoryTestResp.corr</th>\n",
       "    </tr>\n",
       "  </thead>\n",
       "  <tbody>\n",
       "    <tr>\n",
       "      <th>0</th>\n",
       "      <td>0</td>\n",
       "      <td>0.507344</td>\n",
       "      <td>0.399971</td>\n",
       "      <td>0.782505</td>\n",
       "      <td>1</td>\n",
       "      <td>0.867199</td>\n",
       "      <td>1</td>\n",
       "    </tr>\n",
       "    <tr>\n",
       "      <th>1</th>\n",
       "      <td>0</td>\n",
       "      <td>0.743741</td>\n",
       "      <td>0.300390</td>\n",
       "      <td>0.875974</td>\n",
       "      <td>1</td>\n",
       "      <td>2.142522</td>\n",
       "      <td>0</td>\n",
       "    </tr>\n",
       "    <tr>\n",
       "      <th>2</th>\n",
       "      <td>0</td>\n",
       "      <td>0.406157</td>\n",
       "      <td>0.316628</td>\n",
       "      <td>1.088317</td>\n",
       "      <td>1</td>\n",
       "      <td>0.754723</td>\n",
       "      <td>1</td>\n",
       "    </tr>\n",
       "    <tr>\n",
       "      <th>3</th>\n",
       "      <td>0</td>\n",
       "      <td>0.351900</td>\n",
       "      <td>0.283303</td>\n",
       "      <td>0.852112</td>\n",
       "      <td>1</td>\n",
       "      <td>1.957806</td>\n",
       "      <td>0</td>\n",
       "    </tr>\n",
       "    <tr>\n",
       "      <th>4</th>\n",
       "      <td>0</td>\n",
       "      <td>0.345011</td>\n",
       "      <td>0.266708</td>\n",
       "      <td>1.218718</td>\n",
       "      <td>1</td>\n",
       "      <td>3.170142</td>\n",
       "      <td>1</td>\n",
       "    </tr>\n",
       "  </tbody>\n",
       "</table>\n",
       "</div>"
      ],
      "text/plain": [
       "   Age  Average_Reading_time  Reading_time_on_target  \\\n",
       "0    0              0.507344                0.399971   \n",
       "1    0              0.743741                0.300390   \n",
       "2    0              0.406157                0.316628   \n",
       "3    0              0.351900                0.283303   \n",
       "4    0              0.345011                0.266708   \n",
       "\n",
       "   Item_t_MemoryTestResp.rt  Item_t_MemoryTestResp.corr  \\\n",
       "0                  0.782505                           1   \n",
       "1                  0.875974                           1   \n",
       "2                  1.088317                           1   \n",
       "3                  0.852112                           1   \n",
       "4                  1.218718                           1   \n",
       "\n",
       "   Item_s_MemoryTestResp.rt  Item_s_MemoryTestResp.corr  \n",
       "0                  0.867199                           1  \n",
       "1                  2.142522                           0  \n",
       "2                  0.754723                           1  \n",
       "3                  1.957806                           0  \n",
       "4                  3.170142                           1  "
      ]
     },
     "execution_count": 16,
     "metadata": {},
     "output_type": "execute_result"
    }
   ],
   "source": [
    "df.head()"
   ]
  },
  {
   "cell_type": "code",
   "execution_count": 17,
   "metadata": {},
   "outputs": [],
   "source": [
    "mean = df[\"Average_Reading_time\"].mean()\n",
    "sd = df[\"Average_Reading_time\"].std()"
   ]
  },
  {
   "cell_type": "code",
   "execution_count": 18,
   "metadata": {},
   "outputs": [
    {
     "data": {
      "text/plain": [
       "3.8506625966234553"
      ]
     },
     "execution_count": 18,
     "metadata": {},
     "output_type": "execute_result"
    }
   ],
   "source": [
    "value = mean +(2.5* sd)\n",
    "value"
   ]
  },
  {
   "cell_type": "code",
   "execution_count": 19,
   "metadata": {},
   "outputs": [
    {
     "data": {
      "text/plain": [
       "(7260, 7)"
      ]
     },
     "execution_count": 19,
     "metadata": {},
     "output_type": "execute_result"
    }
   ],
   "source": [
    "df.shape"
   ]
  },
  {
   "cell_type": "code",
   "execution_count": null,
   "metadata": {},
   "outputs": [],
   "source": []
  },
  {
   "cell_type": "code",
   "execution_count": 20,
   "metadata": {
    "id": "8KsO5IzNi_bd"
   },
   "outputs": [],
   "source": [
    "# Here goes modifying\n",
    "feature_columns = [col for col in df.columns if col not in ['target1', 'target2']]\n",
    "def remove_outliers(col):\n",
    "    mean = np.mean(col)\n",
    "    SD = np.std(col)\n",
    "    lower_bound = mean - 2.5 * SD\n",
    "    upper_bound = mean + 2.5 * SD\n",
    "    return np.where((col < lower_bound) | (col > upper_bound), np.nan, col)\n",
    "\n",
    "# Apply the function only to feature columns\n",
    "df_filtered = df.copy()\n",
    "df_filtered[feature_columns] = df[feature_columns].apply(remove_outliers)\n",
    "\n",
    "# If you want to remove the rows with NaN values\n",
    "df_filtered = df_filtered.dropna()\n"
   ]
  },
  {
   "cell_type": "code",
   "execution_count": 21,
   "metadata": {},
   "outputs": [
    {
     "data": {
      "text/plain": [
       "(7076, 7)"
      ]
     },
     "execution_count": 21,
     "metadata": {},
     "output_type": "execute_result"
    }
   ],
   "source": [
    "df_filtered.shape"
   ]
  },
  {
   "cell_type": "code",
   "execution_count": 22,
   "metadata": {},
   "outputs": [
    {
     "name": "stdout",
     "output_type": "stream",
     "text": [
      "0.4696969696969697\n",
      "[0.46694215 0.4476584  0.434573   0.46694215 0.43939394]\n"
     ]
    }
   ],
   "source": [
    "    rf_clf= RandomForestClassifier(n_estimators=99)\n",
    "\n",
    "    # Splitting the datasets into train and test using 20% as test size\n",
    "    X_train, X_test, y_train, y_test = train_test_split(X,y,test_size = 0.2, random_state = 42)\n",
    "\n",
    "    # print(X_train.shape, X_train.dtype)\n",
    "    # print(y_train.shape, y_train.dtype)\n",
    "    multi_target_clf = MultiOutputClassifier(estimator = rf_clf)\n",
    "\n",
    "    # Fitting the Model with X_train and y_train  Note: here y_train is 2D array \n",
    "    multi_target_clf.fit(X_train,y_train)\n",
    "    \n",
    "    y_pred = multi_target_clf.predict(X_test)\n",
    "    # print(y_pred)\n",
    "    # print(f\"This is true one: {y_test}\")\n",
    "\n",
    "    # Calculating Cross Validation score to test the performance.\n",
    "    score = multi_target_clf.score(X_test,y_test)\n",
    "    scores = cross_val_score(rf_clf, X, y, cv=5)\n",
    "    print(score)\n",
    "    print(scores)"
   ]
  },
  {
   "cell_type": "markdown",
   "metadata": {},
   "source": [
    "## Checking using Simple Neural Network using PyTorch"
   ]
  },
  {
   "cell_type": "code",
   "execution_count": 59,
   "metadata": {},
   "outputs": [
    {
     "data": {
      "text/plain": [
       "((5808, 5), (1452, 5), (5808, 2), (1452, 2))"
      ]
     },
     "execution_count": 59,
     "metadata": {},
     "output_type": "execute_result"
    }
   ],
   "source": [
    "X_train.shape,X_test.shape,y_train.shape,y_test.shape"
   ]
  },
  {
   "cell_type": "code",
   "execution_count": 81,
   "metadata": {},
   "outputs": [
    {
     "name": "stdout",
     "output_type": "stream",
     "text": [
      "Epoch 10/250, Loss: 0.940854549407959\n",
      "Epoch 20/250, Loss: 0.7434816360473633\n",
      "Epoch 30/250, Loss: 0.8639435172080994\n",
      "Epoch 40/250, Loss: 0.8904860019683838\n",
      "Epoch 50/250, Loss: 0.8930152058601379\n",
      "Epoch 60/250, Loss: 0.9516007304191589\n",
      "Epoch 70/250, Loss: 1.0457701683044434\n",
      "Epoch 80/250, Loss: 1.1490287780761719\n",
      "Epoch 90/250, Loss: 0.9410005807876587\n",
      "Epoch 100/250, Loss: 0.7994152307510376\n",
      "Epoch 110/250, Loss: 0.8488160371780396\n",
      "Epoch 120/250, Loss: 0.8706216216087341\n",
      "Epoch 130/250, Loss: 1.1600459814071655\n",
      "Epoch 140/250, Loss: 1.0430196523666382\n",
      "Epoch 150/250, Loss: 0.833387553691864\n",
      "Epoch 160/250, Loss: 0.9144116640090942\n",
      "Epoch 170/250, Loss: 0.9208999276161194\n",
      "Epoch 180/250, Loss: 1.0327879190444946\n",
      "Epoch 190/250, Loss: 1.0285767316818237\n",
      "Epoch 200/250, Loss: 1.1585997343063354\n",
      "Epoch 210/250, Loss: 0.8615858554840088\n",
      "Epoch 220/250, Loss: 1.0177232027053833\n",
      "Epoch 230/250, Loss: 0.9146279096603394\n",
      "Epoch 240/250, Loss: 1.0738551616668701\n",
      "Epoch 250/250, Loss: 0.7361111640930176\n",
      "Finished Training\n"
     ]
    }
   ],
   "source": [
    "\n",
    "# Convert pandas dataframes to numpy arrays\n",
    "# X = X.to_numpy() \n",
    "# y = y.to_numpy() # this was already a numpy array\n",
    "\n",
    "# First changing it to numpy array\n",
    "X_train = X_train.to_numpy()\n",
    "X_test = X_test.to_numpy()\n",
    "\n",
    "# Convert numpy arrays to PyTorch tensors\n",
    "X_train = torch.FloatTensor(X_train)\n",
    "y_train = torch.FloatTensor(y_train)\n",
    "X_test = torch.FloatTensor(X_test)\n",
    "y_test = torch.FloatTensor(y_test)\n",
    "\n",
    "# Define your dataset\n",
    "class MyDataset(Dataset):\n",
    "    def __init__(self, features, labels):\n",
    "        self.features = features\n",
    "        self.labels = labels\n",
    "\n",
    "    def __len__(self):\n",
    "        return len(self.features)\n",
    "\n",
    "    def __getitem__(self, index):\n",
    "        return self.features[index], self.labels[index]\n",
    "\n",
    "# Create data loaders\n",
    "batch_size = 16\n",
    "train_data = MyDataset(X_train, y_train)\n",
    "train_loader = DataLoader(dataset=train_data, batch_size=batch_size, shuffle=True)\n",
    "test_data = MyDataset(X_test, y_test)\n",
    "test_loader = DataLoader(dataset=test_data, batch_size=batch_size, shuffle=True)\n",
    "\n",
    "# Define the model architecture\n",
    "class MultiOutputClassifier(nn.Module):\n",
    "    def __init__(self, input_size, output_size):\n",
    "        super(MultiOutputClassifier, self).__init__()\n",
    "        self.layer1 = nn.Linear(input_size, 64)\n",
    "        self.layer2 = nn.Linear(64, 64)\n",
    "        self.output_layer = nn.Linear(64, output_size)\n",
    "\n",
    "    def forward(self, x):\n",
    "        x = nn.functional.relu(self.layer1(x))\n",
    "        x = nn.functional.relu(self.layer2(x))\n",
    "        x = self.output_layer(x)\n",
    "        return x\n",
    "\n",
    "# Initialize the model\n",
    "model = MultiOutputClassifier(X_train.shape[1], y_train.shape[1])\n",
    "\n",
    "# Define loss function and optimizer\n",
    "criterion = torch.nn.CrossEntropyLoss()\n",
    "optimizer = optim.Adam(model.parameters(), lr=0.001)\n",
    "\n",
    "# Training loop\n",
    "num_epochs = 250\n",
    "for epoch in range(num_epochs):\n",
    "    for i, (features, labels) in enumerate(train_loader):\n",
    "        outputs = model(features)\n",
    "        loss = criterion(outputs, labels)\n",
    "\n",
    "        optimizer.zero_grad()\n",
    "        loss.backward()\n",
    "        optimizer.step()\n",
    "\n",
    "    if (epoch+1) % 10 == 0:\n",
    "        print(f'Epoch {epoch+1}/{num_epochs}, Loss: {loss.item()}')\n",
    "\n",
    "print('Finished Training')"
   ]
  },
  {
   "cell_type": "code",
   "execution_count": null,
   "metadata": {},
   "outputs": [],
   "source": []
  }
 ],
 "metadata": {
  "accelerator": "GPU",
  "colab": {
   "gpuType": "T4",
   "provenance": []
  },
  "kernelspec": {
   "display_name": "Python 3 (ipykernel)",
   "language": "python",
   "name": "python3"
  },
  "language_info": {
   "codemirror_mode": {
    "name": "ipython",
    "version": 3
   },
   "file_extension": ".py",
   "mimetype": "text/x-python",
   "name": "python",
   "nbconvert_exporter": "python",
   "pygments_lexer": "ipython3",
   "version": "3.11.4"
  }
 },
 "nbformat": 4,
 "nbformat_minor": 4
}
